{
  "nbformat": 4,
  "nbformat_minor": 0,
  "metadata": {
    "colab": {
      "provenance": []
    },
    "kernelspec": {
      "name": "python3",
      "display_name": "Python 3"
    },
    "language_info": {
      "name": "python"
    }
  },
  "cells": [
    {
      "cell_type": "code",
      "metadata": {
        "id": "Mj7FVTmP1K9x"
      },
      "source": [
        "def midCircular(cir,start,size):\n",
        "  length=len(cir)\n",
        "  fln=-10000000000 #first largest negative\n",
        "  id_fln=-1\n",
        "  sln=-10000000000 #second largest negative\n",
        "  id_sln=-1\n",
        "  fsp= 1000000000 #first smallest positive\n",
        "  id_fsp=-1\n",
        "  ssp= 1000000000 #second samllest positive\n",
        "  id_ssp=-1\n",
        "\n",
        "  for i in range(size):\n",
        "    id=(start+i)%length\n",
        "    #check second smallest positive\n",
        "    if cir[id]>0:\n",
        "      if cir[id] <= fsp:\n",
        "        ssp=fsp\n",
        "        id_ssp=id_fsp\n",
        "        fsp=cir[id]\n",
        "        id_fsp=id\n",
        "      elif cir[id] < ssp:\n",
        "        ssp=cir[id]\n",
        "        id_ssp=id\n",
        "    #check second largest negative\n",
        "    elif cir[id] < 0:\n",
        "      if cir[id] >= fln:\n",
        "        sln=fln\n",
        "        id_sln=id_fln\n",
        "        fln=cir[id]\n",
        "        id_fln=id\n",
        "      elif cir[id] > sln:\n",
        "        sln=cir[id]\n",
        "        id_sln=id\n",
        "  print(\"Second Largest Negative = \"+ str(sln))\n",
        "  print(\"Second Smallest Positive = \"+ str(ssp))\n",
        "\n",
        "  cir[ (id_sln + 1)%length ] = sln+ssp\n",
        "  cir[ (ssp-1+length)%length ] = sln*ssp\n",
        "\n",
        "  for i in range(size):\n",
        "    print(cir[ ( i+start)%length ], end = ' ')"
      ],
      "execution_count": null,
      "outputs": []
    },
    {
      "cell_type": "code",
      "metadata": {
        "id": "QNW-90j-AY4i"
      },
      "source": [
        "class Node:\n",
        "  def __init__(self,val):\n",
        "    self.value=val\n",
        "    self.prev=None\n",
        "    self.next=None\n",
        "def countNode(head):\n",
        "  if head == None:\n",
        "    return 0\n",
        "  cur=head.next\n",
        "  cnt=0\n",
        "  while True:\n",
        "    cnt+=1\n",
        "    if cur.next == head.next:\n",
        "      break\n",
        "    cur=cur.next\n",
        "  return cnt\n",
        "\n",
        "\n",
        "def listTransform(head):\n",
        "  cnt = countNode(head)\n",
        "  if cnt == 0:\n",
        "    return head\n",
        "  pr=head.next\n",
        "  cur=pr.next\n",
        "  while True:\n",
        "    cur.prev=pr\n",
        "    if cur.next == head.next:\n",
        "      break\n",
        "    pr=cur\n",
        "    cur=cur.next\n",
        "  head.next.prev=cur\n",
        "  cur.next=head.next\n",
        "  return head"
      ],
      "execution_count": null,
      "outputs": []
    }
  ]
}