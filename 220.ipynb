{
  "nbformat": 4,
  "nbformat_minor": 0,
  "metadata": {
    "colab": {
      "provenance": []
    },
    "kernelspec": {
      "display_name": "Python 3",
      "name": "python3"
    },
    "language_info": {
      "name": "python"
    }
  },
  "cells": [
    {
      "cell_type": "markdown",
      "metadata": {
        "id": "9QSTbiNqmXtU"
      },
      "source": [
        "ARRAY\n"
      ]
    },
    {
      "cell_type": "code",
      "metadata": {
        "id": "HI4kKkf5PWaP"
      },
      "source": [],
      "execution_count": null,
      "outputs": []
    },
    {
      "cell_type": "code",
      "metadata": {
        "colab": {
          "base_uri": "https://localhost:8080/"
        },
        "id": "jw0REDFhj6Ep",
        "outputId": "0895a678-6058-4a39-a9dd-8dddcb7f5fc3"
      },
      "source": [
        "import array as arr\n",
        "A = arr.array(\"i\", [1, 2, 3, 4])\n",
        "print(A)\n",
        "for i in A:\n",
        "   print(i)\n"
      ],
      "execution_count": null,
      "outputs": [
        {
          "output_type": "stream",
          "name": "stdout",
          "text": [
            "array('i', [1, 2, 3, 4])\n",
            "1\n",
            "2\n",
            "3\n",
            "4\n"
          ]
        }
      ]
    },
    {
      "cell_type": "code",
      "metadata": {
        "colab": {
          "base_uri": "https://localhost:8080/"
        },
        "id": "5SaCVnDDlBa2",
        "outputId": "bcedc4fe-2520-4634-ae54-d3258f2bc95d"
      },
      "source": [
        "def reverse(A):\n",
        "  i = 0\n",
        "  j = len(A)-1\n",
        "  while i<j:\n",
        "    temp = A[i]\n",
        "    A[i] = A[j]\n",
        "    A[j] = temp\n",
        "    i += 1\n",
        "    j -= 1\n",
        "  return A\n",
        "c = [10, 20, 30, 40]\n",
        "reverse(c)"
      ],
      "execution_count": null,
      "outputs": [
        {
          "output_type": "execute_result",
          "data": {
            "text/plain": [
              "[40, 30, 20, 10]"
            ]
          },
          "metadata": {
            "tags": []
          },
          "execution_count": 17
        }
      ]
    },
    {
      "cell_type": "code",
      "metadata": {
        "id": "1HYCvcJrmRP9"
      },
      "source": [
        "def Reverse(A):\n",
        "  ln = len(A)\n",
        "  lst = [None]*ln\n",
        "  j = ln-1\n",
        "  for i in range(ln):\n",
        "    lst[i] = A [j]\n",
        "    j -= 1\n",
        "  return lst\n"
      ],
      "execution_count": null,
      "outputs": []
    },
    {
      "cell_type": "code",
      "metadata": {
        "colab": {
          "base_uri": "https://localhost:8080/"
        },
        "id": "LYtOQGZGqIDd",
        "outputId": "d6fba4d9-643d-4db2-b28e-eca9a8202e8a"
      },
      "source": [
        "E = [25, 30, 35, 40, 50]\n",
        "C = Reverse(E)\n",
        "print(C)"
      ],
      "execution_count": null,
      "outputs": [
        {
          "output_type": "stream",
          "text": [
            "[50, 40, 35, 30, 25]\n"
          ],
          "name": "stdout"
        }
      ]
    },
    {
      "cell_type": "code",
      "metadata": {
        "id": "bWwENyDZraSr"
      },
      "source": [
        "def left_rotate(A):\n",
        "  ln = len(A)\n",
        "  temp = A[0]\n",
        "  for i in range(ln-1):\n",
        "   A[i]=A[i+1]\n",
        "  A[ln-1] = temp\n",
        "  return A"
      ],
      "execution_count": null,
      "outputs": []
    },
    {
      "cell_type": "code",
      "metadata": {
        "colab": {
          "base_uri": "https://localhost:8080/"
        },
        "id": "yA4iIZ4paJHJ",
        "outputId": "8d256c09-1bcd-421f-baee-e454d080f3cf"
      },
      "source": [
        "A=[10,20,30, 40, 50]\n",
        "print(left_rotate(A))"
      ],
      "execution_count": null,
      "outputs": [
        {
          "output_type": "stream",
          "name": "stdout",
          "text": [
            "[20, 30, 40, 50, 10]\n"
          ]
        }
      ]
    },
    {
      "cell_type": "code",
      "metadata": {
        "id": "wBztWYfuaRBs"
      },
      "source": [
        "def right_rotate(A):\n",
        "  l = len(A)\n",
        "  tmp = A[l-1]\n",
        "  for i in reversed(range(1,l)):\n",
        "    A[i] = A[i-1]\n",
        "  A[0]=tmp\n",
        "  return A\n",
        "\n",
        "  #j=len(A)-1\n",
        "  #while j>0:\n",
        "    #A[j]=A[j-1]\n",
        "    #j-=1\n"
      ],
      "execution_count": null,
      "outputs": []
    },
    {
      "cell_type": "code",
      "metadata": {
        "colab": {
          "base_uri": "https://localhost:8080/"
        },
        "id": "54n7x8NneUkN",
        "outputId": "b6ba7241-5fa3-40ba-b9d0-ea4befedcba5"
      },
      "source": [
        "A=[10,20,30]\n",
        "print(right_rotate(A))"
      ],
      "execution_count": null,
      "outputs": [
        {
          "output_type": "stream",
          "name": "stdout",
          "text": [
            "[30, 10, 20]\n"
          ]
        }
      ]
    },
    {
      "cell_type": "code",
      "metadata": {
        "id": "EG8UBjjD_TjJ"
      },
      "source": [
        "def leftShift(A):\n",
        "  l = len(A)\n",
        "  temp = A[l-1]\n",
        "  for i in range(l-1):\n",
        "    A[i]=A[i+1]\n",
        "  A[l-1] = 0\n",
        "  return A\n",
        "\n"
      ],
      "execution_count": null,
      "outputs": []
    },
    {
      "cell_type": "code",
      "metadata": {
        "colab": {
          "base_uri": "https://localhost:8080/"
        },
        "id": "xANm_ODDb4Eq",
        "outputId": "c011f248-0b25-4f32-8919-49bc22b616f1"
      },
      "source": [
        "A=[10,20,30]\n",
        "print(leftShift(A))"
      ],
      "execution_count": null,
      "outputs": [
        {
          "output_type": "stream",
          "text": [
            "[20, 30, 0]\n"
          ],
          "name": "stdout"
        }
      ]
    },
    {
      "cell_type": "code",
      "metadata": {
        "id": "8Rhzivi2b6PU"
      },
      "source": [
        "def rightShift(A):\n",
        "  l = len(A)\n",
        "  temp = A[0]\n",
        "  for i in reversed(range(l)):\n",
        "    A[i] = A[i-1]\n",
        "  A[0] = 0\n",
        "  return A\n"
      ],
      "execution_count": null,
      "outputs": []
    },
    {
      "cell_type": "code",
      "metadata": {
        "colab": {
          "base_uri": "https://localhost:8080/"
        },
        "id": "pF6MvW2bol-e",
        "outputId": "5ef840f4-2354-4559-d90c-2bfd6cd3107a"
      },
      "source": [
        "A=[10,20,30]\n",
        "print(rightShift(A))"
      ],
      "execution_count": null,
      "outputs": [
        {
          "output_type": "stream",
          "text": [
            "[0, 10, 20]\n"
          ],
          "name": "stdout"
        }
      ]
    },
    {
      "cell_type": "code",
      "metadata": {
        "id": "zjynL66w1vWN"
      },
      "source": [
        "def Insert(p,v):\n",
        "  global A\n",
        "  global ln\n",
        "  if Ln == ln:\n",
        "    print(\"No Space to insert\")\n",
        "  else:\n",
        "    i=ln\n",
        "    while i>p:\n",
        "      A[i] = A[i-1]\n",
        "      i -= 1\n",
        "    A[p]= v\n",
        "    ln +1"
      ],
      "execution_count": null,
      "outputs": []
    },
    {
      "cell_type": "code",
      "metadata": {
        "colab": {
          "base_uri": "https://localhost:8080/"
        },
        "id": "Ggw7bkWe2vxp",
        "outputId": "ff1ed896-6f7e-4fdd-8d5d-55a4d3c36b0a"
      },
      "source": [
        "A = [2, 3, 4, 5,0,0]\n",
        "ln=0\n",
        "Ln=6\n",
        "Insert(2, 7)\n",
        "print(A)"
      ],
      "execution_count": null,
      "outputs": [
        {
          "output_type": "stream",
          "text": [
            "[2, 3, 7, 5, 0, 0]\n"
          ],
          "name": "stdout"
        }
      ]
    },
    {
      "cell_type": "code",
      "metadata": {
        "id": "dl_l5b0U29q4"
      },
      "source": [
        "#TAsk1\n",
        "def k_l_shift(A, k):\n",
        "  l = len(A)\n",
        "  for i in range(l-k):\n",
        "    A[i]= A[i+k]\n",
        "  for i in range(l-k, l):\n",
        "    A[i]= 0\n",
        "  return A\n",
        "\n",
        "\n"
      ],
      "execution_count": null,
      "outputs": []
    },
    {
      "cell_type": "code",
      "metadata": {
        "colab": {
          "base_uri": "https://localhost:8080/"
        },
        "id": "7QDcX666DTmY",
        "outputId": "6b83ec39-e03f-4ae6-f8d5-1bc0bac805d4"
      },
      "source": [
        "import array as arr\n",
        "E = arr.array(\"i\", [10,20,30,40,50,60])\n",
        "f=k_l_shift(E, 3)\n",
        "print(E)"
      ],
      "execution_count": null,
      "outputs": [
        {
          "output_type": "stream",
          "text": [
            "array('i', [40, 50, 60, 0, 0, 0])\n"
          ],
          "name": "stdout"
        }
      ]
    },
    {
      "cell_type": "code",
      "metadata": {
        "id": "lKb1e016DqDr"
      },
      "source": [
        "#task2\n",
        "def k_l_rotate(A, k):\n",
        "  l = len(A)\n",
        "  c = arr.array(\"i\", [0]*k)\n",
        "  d = arr.array(\"i\", [0]*(l-k))\n",
        "  for i in range(k):\n",
        "    c[i]= A[i]\n",
        "  j = 0\n",
        "  for i in range(k, l):\n",
        "    d[j]= A[i]\n",
        "    j += 1\n",
        "  i = 0\n",
        "  for x in d:\n",
        "    A[i] = x\n",
        "    i += 1\n",
        "  for x in c:\n",
        "    A[i] = x\n",
        "    i += 1\n"
      ],
      "execution_count": null,
      "outputs": []
    },
    {
      "cell_type": "code",
      "metadata": {
        "colab": {
          "base_uri": "https://localhost:8080/"
        },
        "id": "IVOFgG6AGRQx",
        "outputId": "8117ca1a-e04d-47ca-bbf6-0edcd25b4e39"
      },
      "source": [
        "A = [10,20,30,40,50,60]\n",
        "k_l_rotate(A, 3)\n",
        "print(A)"
      ],
      "execution_count": null,
      "outputs": [
        {
          "output_type": "stream",
          "text": [
            "[40, 50, 60, 10, 20, 30]\n"
          ],
          "name": "stdout"
        }
      ]
    },
    {
      "cell_type": "code",
      "metadata": {
        "id": "fT8NTlgNGeDh"
      },
      "source": [
        "def k_r_rotate(A, k):\n",
        "  l = len(A)\n",
        "  c =  arr.array(\"i\",[0]*k)\n",
        "  d = arr.array(\"i\",[0]*(l-k))\n",
        "  j = 0\n",
        "  for i in range(l-k, l):\n",
        "    c[j]= A[i]\n",
        "    j += 1\n",
        "  for  i in range(l-k):\n",
        "    d[i]= A[i]\n",
        "  i = 0\n",
        "  for x in c:\n",
        "    A[i]= x\n",
        "    i += 1\n",
        "  for x in d:\n",
        "    A[i] = x\n",
        "    i += 1\n",
        "\n"
      ],
      "execution_count": null,
      "outputs": []
    },
    {
      "cell_type": "code",
      "metadata": {
        "colab": {
          "base_uri": "https://localhost:8080/"
        },
        "id": "Cy0-PBZlJ3UE",
        "outputId": "b3d23cc8-2681-4b0b-d2ad-a5f1e38348c0"
      },
      "source": [
        "A = [10,20,30,40,50,60]\n",
        "k_r_rotate(A, 2)\n",
        "print(A)"
      ],
      "execution_count": null,
      "outputs": [
        {
          "output_type": "stream",
          "text": [
            "[50, 60, 10, 20, 30, 40]\n"
          ],
          "name": "stdout"
        }
      ]
    },
    {
      "cell_type": "code",
      "metadata": {
        "id": "bfguK3lIJ4yk"
      },
      "source": [
        "def remove(A, sz, idx):\n",
        "  for i in range(idx, sz-1):\n",
        "    A[i] = A[i+1]\n",
        "  A[sz-1] = 0\n",
        ""
      ],
      "execution_count": null,
      "outputs": []
    },
    {
      "cell_type": "code",
      "metadata": {
        "colab": {
          "base_uri": "https://localhost:8080/"
        },
        "id": "YYGFecPoMukD",
        "outputId": "a2e8de0e-b15d-4269-ea5a-d70d607861ac"
      },
      "source": [
        "source=[10,20,30,40,50,0,0]\n",
        "remove(source, 5, 2)\n",
        "print(source)"
      ],
      "execution_count": null,
      "outputs": [
        {
          "output_type": "stream",
          "text": [
            "[10, 20, 40, 50, 0, 0, 0]\n"
          ],
          "name": "stdout"
        }
      ]
    },
    {
      "cell_type": "code",
      "metadata": {
        "id": "c1PqdsDMNHIB"
      },
      "source": [
        "def removeAll(A, sz, val):\n",
        "  l = [0]*len(A)\n",
        "  i=0\n",
        "  for x in A:\n",
        "    if x != val:\n",
        "      l[i]=x\n",
        "      i+=1\n",
        "  for i in range(len(A)):\n",
        "    A[i]=l[i]\n"
      ],
      "execution_count": null,
      "outputs": []
    },
    {
      "cell_type": "code",
      "metadata": {
        "colab": {
          "base_uri": "https://localhost:8080/"
        },
        "id": "DzrQ6q9HOtAe",
        "outputId": "b47ab6ec-12b7-4a52-d1a0-5d4655ca6f64"
      },
      "source": [
        "source=[10,2,30,2,50,2,2,0,0]\n",
        "removeAll(source,7,2)\n",
        "print(source)"
      ],
      "execution_count": null,
      "outputs": [
        {
          "output_type": "stream",
          "text": [
            "[10, 30, 50, 0, 0, 0, 0, 0, 0]\n"
          ],
          "name": "stdout"
        }
      ]
    },
    {
      "cell_type": "code",
      "metadata": {
        "id": "f5269CMUOxBI"
      },
      "source": [
        "def Bunch(A):\n",
        "  Mx=0\n",
        "  l=len(A)\n",
        "  i=0\n",
        "  while i<l:\n",
        "    cnt=0\n",
        "    j=i\n",
        "    while j<l and A[j]==A[i]:\n",
        "      cnt+=1\n",
        "      j+=1\n",
        "    Mx=max(Mx,cnt)\n",
        "    i=j\n",
        "  if Mx<2:\n",
        "    print('There is no Bunch')\n",
        "  else :\n",
        "    return Mx\n",
        "\n"
      ],
      "execution_count": null,
      "outputs": []
    },
    {
      "cell_type": "code",
      "metadata": {
        "colab": {
          "base_uri": "https://localhost:8080/"
        },
        "id": "BZO6zdMMfqvD",
        "outputId": "3cb9474b-39e7-4102-c48c-9c598fddf4d6"
      },
      "source": [
        "A=arr.array('i',[1,2,2,3,4,4,4])\n",
        "print(Bunch(A))"
      ],
      "execution_count": null,
      "outputs": [
        {
          "output_type": "stream",
          "text": [
            "3\n"
          ],
          "name": "stdout"
        }
      ]
    },
    {
      "cell_type": "code",
      "metadata": {
        "id": "vCSWdj3FhU1F"
      },
      "source": [
        "def Repetation(A):\n",
        "  st=set()\n",
        "  l=len(A)\n",
        "  for x in A:\n",
        "    st.add(x)\n",
        "  lst=[]\n",
        "  for x in st:\n",
        "    cnt=0\n",
        "    for y in A:\n",
        "      if x==y:\n",
        "        cnt+=1\n",
        "    if cnt>1:\n",
        "      lst.append(cnt)\n",
        "  st2=set()\n",
        "  for x in lst:\n",
        "    st2.add(x)\n",
        "  if len(st2)==len(lst):\n",
        "    return False\n",
        "  else :\n",
        "    return True\n"
      ],
      "execution_count": null,
      "outputs": []
    },
    {
      "cell_type": "code",
      "metadata": {
        "colab": {
          "base_uri": "https://localhost:8080/"
        },
        "id": "S_D_Y4UqiM_N",
        "outputId": "ebc25579-0ade-4a9e-c0b8-9f46a396c7cf"
      },
      "source": [
        "A=arr.array('i',[1,2,2,2,3,4,4,4])\n",
        "print(Repetation(A))"
      ],
      "execution_count": null,
      "outputs": [
        {
          "output_type": "stream",
          "text": [
            "True\n"
          ],
          "name": "stdout"
        }
      ]
    },
    {
      "cell_type": "code",
      "metadata": {
        "id": "95nQjcbQXoT7"
      },
      "source": [
        "import array as arr\n",
        "def Repetation(A):\n",
        "  st=set()\n",
        "  l=len(A)\n",
        "  for x in A:\n",
        "    st.add(x)\n",
        "  lst=[0]*len(st)\n",
        "  i=0\n",
        "  for x in st:\n",
        "    cnt=0\n",
        "    for y in A:\n",
        "      if x==y:\n",
        "        cnt+=1\n",
        "    if cnt>1:\n",
        "      lst[i]=cnt\n",
        "      i+=1\n",
        "  st2=set()\n",
        "  for j in range(i):\n",
        "    st2.add(lst[j])\n",
        "  if len(st2)==i:\n",
        "    return False\n",
        "  else :\n",
        "    return True"
      ],
      "execution_count": null,
      "outputs": []
    },
    {
      "cell_type": "code",
      "metadata": {
        "colab": {
          "base_uri": "https://localhost:8080/"
        },
        "id": "pB5UhkugKOpp",
        "outputId": "6bb43478-3137-4edb-ae42-815af077b40f"
      },
      "source": [
        "A=arr.array('i',[1,2,2,2,3,4,4,4])\n",
        "print(Repetation(A))"
      ],
      "execution_count": null,
      "outputs": [
        {
          "output_type": "stream",
          "text": [
            "True\n"
          ],
          "name": "stdout"
        }
      ]
    },
    {
      "cell_type": "code",
      "metadata": {
        "id": "0Ol68dvkTV3l"
      },
      "source": [
        "def isPalindrome(A,sz,st):\n",
        "  l=len(A)\n",
        "  rear=(st+sz-1)%l\n",
        "  i=st\n",
        "  j=rear\n",
        "  while sz>1:\n",
        "    if A[i]==A[j]:\n",
        "      i+=1\n",
        "      j-=1\n",
        "      if i==l:\n",
        "        i=0\n",
        "      if j==-1:\n",
        "        j=l-1\n",
        "      sz-=2\n",
        "    else:\n",
        "      return False\n",
        "  return True"
      ],
      "execution_count": null,
      "outputs": []
    },
    {
      "cell_type": "code",
      "metadata": {
        "id": "alVVCZQRKPqa",
        "colab": {
          "base_uri": "https://localhost:8080/"
        },
        "outputId": "717a31af-0f26-4397-e3f6-6afc956fce8e"
      },
      "source": [
        "A=arr.array('i',[20,10,0,0,0,10,20,30])\n",
        "st=5\n",
        "sz=5\n",
        "print(isPalindrome(A,sz,st))\n"
      ],
      "execution_count": null,
      "outputs": [
        {
          "output_type": "stream",
          "text": [
            "True\n"
          ],
          "name": "stdout"
        }
      ]
    },
    {
      "cell_type": "code",
      "metadata": {
        "id": "j_75JCYGVivC"
      },
      "source": [
        "def intersection(A,sza,sta,B,szb,stb):\n",
        "  temp=arr.array('i',[0]*len(A))\n",
        "  temp_now=0\n",
        "  total_size_A=len(A)\n",
        "  total_size_B=len(B)\n",
        "  A_now=sta\n",
        "  for i in range(sza):\n",
        "    B_now=stb\n",
        "    for j in range(szb):\n",
        "      if A[A_now]==B[B_now]:\n",
        "        temp[temp_now]=A[A_now]\n",
        "        temp_now+=1\n",
        "        print(A[A_now])\n",
        "        break\n",
        "      else :\n",
        "        B_now+=1\n",
        "        if B_now==total_size_B:\n",
        "          B_now=0\n",
        "    A_now+=1\n",
        "    if A_now==total_size_A:\n",
        "      A_now=0\n",
        "  ret=arr.array('i',[0]*temp_now)\n",
        "  for i in range(temp_now):\n",
        "    ret[i]=temp[i]\n",
        "  return ret"
      ],
      "execution_count": null,
      "outputs": []
    },
    {
      "cell_type": "code",
      "metadata": {
        "colab": {
          "base_uri": "https://localhost:8080/"
        },
        "id": "7lfaniMVV-Zo",
        "outputId": "07acc3f3-c78e-4562-b773-5eb1a40401c1"
      },
      "source": [
        "A=arr.array('i',[40,50,0,0,0,10,20,30])\n",
        "sta=5\n",
        "sza=5\n",
        "B=arr.array('i',[10,20,5,0,0,0,0,0,5,40,15,25])\n",
        "stb=8\n",
        "szb=7\n",
        "inter=intersection(A,sza,sta,B,szb,stb)\n",
        "print(inter)"
      ],
      "execution_count": null,
      "outputs": [
        {
          "output_type": "stream",
          "text": [
            "10\n",
            "20\n",
            "40\n",
            "array('i', [10, 20, 40])\n"
          ],
          "name": "stdout"
        }
      ]
    },
    {
      "cell_type": "code",
      "metadata": {
        "id": "g58Dgg0FhER2"
      },
      "source": [
        "def remove_mid(A, sz):\n",
        "  idx=int((sz//2))\n",
        "  for i in range(idx, sz-1):\n",
        "    A[i] = A[i+1]\n",
        "  A[sz-1] = 0"
      ],
      "execution_count": null,
      "outputs": []
    },
    {
      "cell_type": "code",
      "metadata": {
        "id": "UZvRanj3iR70"
      },
      "source": [
        "def R_ROTATE(A,sz):\n",
        "  temp=A[sz-1]\n",
        "  i=sz-1\n",
        "  while i>0:\n",
        "    A[i]=A[i-1]\n",
        "    i-=1\n",
        "  A[0]=temp"
      ],
      "execution_count": null,
      "outputs": []
    },
    {
      "cell_type": "code",
      "metadata": {
        "id": "cql2yy5tV-jw",
        "colab": {
          "base_uri": "https://localhost:8080/"
        },
        "outputId": "61cb56ba-e333-44de-fc02-1f20658404f6"
      },
      "source": [
        "import random\n",
        "A=arr.array('i',[0,1,2,3,4,5,6])\n",
        "lst=['Araf','Arif','sakib','Wasim','Rakib','Shofiq','siam']\n",
        "st=0\n",
        "sz=7\n",
        "while sz>1:\n",
        "  a=random.randint(0,3)\n",
        "  if a!=1:\n",
        "    R_ROTATE(A,sz)\n",
        "  else :\n",
        "    remove_mid(A,sz)\n",
        "    sz-=1\n",
        "print(lst[A[0]])"
      ],
      "execution_count": null,
      "outputs": [
        {
          "output_type": "stream",
          "text": [
            "sakib\n"
          ],
          "name": "stdout"
        }
      ]
    },
    {
      "cell_type": "code",
      "metadata": {
        "id": "WOZEFR7aV-vy"
      },
      "source": [
        "def splitting(A):\n",
        "  l=len(A)\n",
        "  for i in range(1,l):\n",
        "    sum_lft=0\n",
        "    for j in range(i):\n",
        "      sum_lft+=A[j]\n",
        "    sum_rgt=0\n",
        "    for j in range(i,l):\n",
        "      sum_rgt+=A[j]\n",
        "    if sum_lft==sum_rgt:\n",
        "      return True\n",
        "  return False\n",
        "\n",
        "\n"
      ],
      "execution_count": null,
      "outputs": []
    },
    {
      "cell_type": "code",
      "metadata": {
        "colab": {
          "base_uri": "https://localhost:8080/"
        },
        "id": "rQeZJozRl_J_",
        "outputId": "7218d2cf-e974-4751-f990-f68949de3348"
      },
      "source": [
        "A=arr.array('i',[1,1,1,2,1])\n",
        "print(splitting(A))\n",
        "B=arr.array('i',[2,1,1,2,1])\n",
        "print(splitting(B))\n",
        "C=arr.array('i',[10,3,10,2,1])\n",
        "print(splitting(C))"
      ],
      "execution_count": null,
      "outputs": [
        {
          "output_type": "stream",
          "text": [
            "True\n",
            "False\n",
            "True\n"
          ],
          "name": "stdout"
        }
      ]
    },
    {
      "cell_type": "code",
      "metadata": {
        "id": "AH9XDoKrnAB8"
      },
      "source": [
        "def Array_Series(N):\n",
        "  C=arr.array('i',[0]*(N*N))\n",
        "  for i in range(N):\n",
        "    pos=(i+1)*N-1\n",
        "    for j in range(i+1):\n",
        "      C[pos]=j+1\n",
        "      pos-=1\n",
        "  return C"
      ],
      "execution_count": null,
      "outputs": []
    },
    {
      "cell_type": "code",
      "metadata": {
        "colab": {
          "base_uri": "https://localhost:8080/"
        },
        "id": "NculJjWFmv37",
        "outputId": "e9ae77a4-5dfc-4402-ee02-24821a8bfbe1"
      },
      "source": [
        "N=int(input())\n",
        "A=Array_Series(N)\n",
        "print(A)"
      ],
      "execution_count": null,
      "outputs": [
        {
          "output_type": "stream",
          "text": [
            "4\n",
            "array('i', [0, 0, 0, 1, 0, 0, 2, 1, 0, 3, 2, 1, 4, 3, 2, 1])\n"
          ],
          "name": "stdout"
        }
      ]
    },
    {
      "cell_type": "code",
      "metadata": {
        "id": "jUVLdXHyQ8r7"
      },
      "source": [
        "#Dummy Headed Doubly Circular Linked List\n",
        "#Task-1\n",
        "class Node:\n",
        "  def __init__(self,key=None,pre=None,nxt=None):\n",
        "    self.key=key\n",
        "    #self.keys=arr.array('i',key)\n",
        "    self.pre=pre\n",
        "    self.nxt=nxt"
      ],
      "execution_count": null,
      "outputs": []
    },
    {
      "cell_type": "code",
      "metadata": {
        "id": "evDWtcscRgW6"
      },
      "source": [
        "class DoublyList:\n",
        "  def __init__(self,a):\n",
        "    prev=Node()\n",
        "    for i in range(len(a)):\n",
        "      cur=Node(a[i])\n",
        "      if i == 0:\n",
        "        self.head=cur\n",
        "      else:\n",
        "        prev.nxt=cur\n",
        "        cur.pre=prev\n",
        "      prev=cur\n",
        "    self.head.pre=prev\n",
        "    prev.nxt=self.head\n",
        "  def showList(self):\n",
        "    cur=self.head\n",
        "    if cur==None:\n",
        "      print('Empty List')\n",
        "    while True:\n",
        "      print(cur.key,end=' ')\n",
        "      if cur.nxt == self.head:\n",
        "        break\n",
        "      cur=cur.nxt\n",
        "    print()\n",
        "  def insert(self,newElement,index=None):\n",
        "    newNode=Node(newElement)\n",
        "    if index == None:\n",
        "      cur=self.head\n",
        "      if cur == None:\n",
        "        self.head=newNode\n",
        "      else:\n",
        "        while True:\n",
        "          if cur.key==newNode.key:\n",
        "            print('Key already exists')\n",
        "            return\n",
        "          if cur.nxt==self.head:\n",
        "            break\n",
        "          cur=cur.nxt\n",
        "        hd=self.head\n",
        "        lst=self.head.pre\n",
        "        self.head.pre=newNode\n",
        "        lst.nxt=newNode\n",
        "        newNode.nxt=self.head\n",
        "        newNode.pre=lst\n",
        "    else:\n",
        "      cnt=0\n",
        "      cur=self.head\n",
        "      while True:\n",
        "        cnt+=1\n",
        "        if cur.key == newNode.key:\n",
        "          print('Key already exists')\n",
        "          return\n",
        "        if cur.nxt == self.head:\n",
        "          break\n",
        "        cur=cur.nxt\n",
        "      if cnt < index:\n",
        "        print('Invalid Index')\n",
        "        return\n",
        "      cnt=0\n",
        "      cur=self.head\n",
        "      while True:\n",
        "        cnt+=1\n",
        "        if cnt==index:\n",
        "          previous = cur.pre\n",
        "          Next= cur\n",
        "          previous.nxt=newNode\n",
        "          Next.pre=newNode\n",
        "          newNode.pre=previous\n",
        "          newNode.nxt=Next\n",
        "          if index == 1:\n",
        "            self.head=newNode\n",
        "          return\n",
        "        cur=cur.nxt\n",
        "\n",
        "  def remove(self,index):\n",
        "    cnt=0\n",
        "    cur=self.head\n",
        "    while True:\n",
        "      cnt+=1\n",
        "      if cnt==index:\n",
        "        cur.pre.nxt=cur.nxt\n",
        "        cur.nxt.pre=cur.pre\n",
        "        #previous=cur.pre\n",
        "        #Next=cur.nxt\n",
        "        #previous.nxt=Next\n",
        "        #Next.pre=previous\n",
        "        if index == 1:\n",
        "          self.head=cur.nxt\n",
        "        return\n",
        "      if cur.nxt == self.head:\n",
        "        break\n",
        "      cur=cur.nxt\n",
        "    print('Invalid Index')\n",
        "  def removeKey(self,key):\n",
        "    cur=self.head\n",
        "    while True:\n",
        "      if cur.key == key:\n",
        "        cur.pre.nxt=cur.nxt\n",
        "        cur.nxt.pre=cur.pre\n",
        "        if cur==self.head:\n",
        "          self.head=cur.nxt\n",
        "        return cur.key\n",
        "      if cur.nxt == self.head:\n",
        "        return 'Key does not exists'\n",
        "      cur=cur.nxt"
      ],
      "execution_count": null,
      "outputs": []
    },
    {
      "cell_type": "code",
      "metadata": {
        "colab": {
          "base_uri": "https://localhost:8080/"
        },
        "id": "U3P4LkydWrz6",
        "outputId": "afce0ddd-f785-435e-f78c-2a335d4b2a61"
      },
      "source": [
        "a=[2,3,9,6,5]\n",
        "Link=DoublyList(a)\n",
        "Link.showList()\n",
        "Link.removeKey(9)\n",
        "Link.showList()"
      ],
      "execution_count": null,
      "outputs": [
        {
          "output_type": "stream",
          "text": [
            "2 3 9 6 5 \n",
            "2 3 6 5 \n"
          ],
          "name": "stdout"
        }
      ]
    },
    {
      "cell_type": "code",
      "metadata": {
        "id": "pNmNXXHOgxZ0"
      },
      "source": [],
      "execution_count": null,
      "outputs": []
    },
    {
      "cell_type": "code",
      "metadata": {
        "id": "L5DWC3Qi2XYc"
      },
      "source": [
        "#Task 2\n",
        "class Element:\n",
        "  def __init__(self,key= None,pre=None):\n",
        "    self.key=key\n",
        "    self.pre=pre"
      ],
      "execution_count": null,
      "outputs": []
    },
    {
      "cell_type": "code",
      "metadata": {
        "id": "ICf8At912snu"
      },
      "source": [
        "class stack:\n",
        "  def __init__(self):\n",
        "    self.top=None\n",
        "  def push(self,val):\n",
        "    newElement=Element(val)\n",
        "    newElement.pre=self.top\n",
        "    self.top=newElement\n",
        "  def pop(self):\n",
        "    if self.top == None:\n",
        "      return 'Underflow'\n",
        "    ret=self.top\n",
        "    self.top=self.top.pre\n",
        "    return ret.key\n",
        "  def peek(self):\n",
        "    if self.top == None:\n",
        "      return 'Underflow'\n",
        "    return self.top.key\n",
        "\n"
      ],
      "execution_count": null,
      "outputs": []
    },
    {
      "cell_type": "code",
      "metadata": {
        "colab": {
          "base_uri": "https://localhost:8080/"
        },
        "id": "PU-KXlL44_ov",
        "outputId": "d48b9d3f-a5e0-4550-ec03-a9edad3c18db"
      },
      "source": [
        "st=stack()\n",
        "ind=stack()\n",
        "expr= input()\n",
        "f='This expression is correct'\n",
        "for i in range(len(expr)):\n",
        "  x=expr[i]\n",
        "  if x =='(' or x == '{' or x == '[':\n",
        "    st.push(x)\n",
        "    ind.push(i+1)\n",
        "  elif x == ')':\n",
        "    if st.peek() == '(':\n",
        "      st.pop()\n",
        "      ind.pop()\n",
        "    else:\n",
        "      if st.peek() == 'Underflow':\n",
        "        f='Error at character # '+str(i+1)+'. '+')- not opened.'\n",
        "      else:\n",
        "        f='Error at character # '+str(ind.peek())+'. '+ st.peek()+ '- not closed.'\n",
        "      break\n",
        "  elif x  == '}':\n",
        "    if st.peek() == '{':\n",
        "      st.pop()\n",
        "      ind.pop()\n",
        "    else:\n",
        "      if st.peek()== 'Underflow':\n",
        "        f='Error at character # '+str(i+1)+'. '+'}- not opened.'\n",
        "      else:\n",
        "        f='Error at character # '+str(ind.peek())+'. '+ st.peek()+ '- not closed.'\n",
        "      break\n",
        "  elif x == ']':\n",
        "    if st.peek() == '[':\n",
        "      st.pop()\n",
        "      ind.pop()\n",
        "    else:\n",
        "      if st.peek()== 'Underflow':\n",
        "        f='Error at character # '+str(i+1)+'. '+']- not opened.'\n",
        "      else:\n",
        "        f='Error at character # '+str(ind.peek())+'. '+st.peek()+ '- not closed.'\n",
        "      break\n",
        "if st.peek() != 'Underflow':\n",
        "  f='Error at character # '+str(ind.peek())+'. '+st.peek()+ '- not closed.'\n",
        "if f != 'This expression is correct':\n",
        "  print('This expression is not correct')\n",
        "print(f)"
      ],
      "execution_count": null,
      "outputs": [
        {
          "output_type": "stream",
          "text": [
            "1+2]*[3*3+{4–5(6(7/8/9)+10)–11+(12*8)]+14\n",
            "This expression is not correct\n",
            "Error at character # 4. ]- not opened.\n"
          ],
          "name": "stdout"
        }
      ]
    },
    {
      "cell_type": "code",
      "metadata": {
        "colab": {
          "base_uri": "https://localhost:8080/"
        },
        "id": "3BR5hlVXL5OK",
        "outputId": "481415c8-3ab4-447e-e7be-3a7517fc294a"
      },
      "source": [
        "#Task 1\n",
        "import numpy as np\n",
        "sz=int(input())\n",
        "stc= np.array(['0']*sz)\n",
        "indx=np.array([0]*sz)\n",
        "top=-1\n",
        "expr=input()\n",
        "f='This expression is correct'\n",
        "for i in range(len(expr)):\n",
        "  x=expr[i]\n",
        "  if x == '(' or x == '{' or  x == '[':\n",
        "    top+=1\n",
        "    if top == sz:\n",
        "      f='Stack Overflow'\n",
        "      break\n",
        "    stc[top]=x\n",
        "    indx[top]=i+1\n",
        "  elif x == ')':\n",
        "    if top == -1:\n",
        "      f='Error at character # '+str(i+1)+'. '+')- not opened.'\n",
        "      break\n",
        "    elif stc[top] == '(':\n",
        "      top-=1\n",
        "    else:\n",
        "      f='Error at character # '+str(indx[top])+'. '+ stc[top]+ '- not closed.'\n",
        "      break\n",
        "  elif x  == '}':\n",
        "    if top == -1:\n",
        "      f='Error at character # '+str(i+1)+'. '+'}- not opened.'\n",
        "      break\n",
        "    elif stc[top] == '{':\n",
        "      top-=1\n",
        "    else:\n",
        "      f='Error at character # '+str(indx[top])+'. '+ stc[top]+ '- not closed.'\n",
        "      break\n",
        "  elif x == ']':\n",
        "    if top == -1:\n",
        "      f='Error at character # '+str(i+1)+'. '+']- not opened.'\n",
        "      break\n",
        "    elif stc[top] == '[':\n",
        "      top-=1\n",
        "    else:\n",
        "      f='Error at character # '+str(indx[top])+'. '+ stc[top]+ '- not closed.'\n",
        "      break\n",
        "\n",
        "\n",
        "if top != -1 and f == 'This expression is correct':\n",
        "  f='Error at character # '+str(indx[top])+'. '+st[top]+ '- not closed.'\n",
        "if f != 'This expression is correct' and f!= 'Stack Overflow' :\n",
        "  print('This expression is not correct')\n",
        "print(f)\n"
      ],
      "execution_count": null,
      "outputs": [
        {
          "output_type": "stream",
          "text": [
            "7\n",
            "1+2]*[3*3+{4–5(6(7/8/9)+10)–11+(12*8)]+14\n",
            "This expression is not correct\n",
            "Error at character # 4. ]- not opened.\n"
          ],
          "name": "stdout"
        }
      ]
    },
    {
      "cell_type": "code",
      "metadata": {
        "id": "U6y3ltmRfSlH"
      },
      "source": [
        "for i in reversed(range(2,10)):\n",
        "  print(i)"
      ],
      "execution_count": null,
      "outputs": []
    }
  ]
}